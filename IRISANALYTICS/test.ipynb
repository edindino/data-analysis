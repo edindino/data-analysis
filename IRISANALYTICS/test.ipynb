{
 "cells": [
  {
   "cell_type": "code",
   "execution_count": 93,
   "metadata": {
    "collapsed": true
   },
   "outputs": [],
   "source": [
    "# This Python 3 environment comes with many helpful analytics libraries installed\n",
    "# It is defined by the kaggle/python docker image: https://github.com/kaggle/docker-python\n",
    "# For example, here's several helpful packages to load in \n",
    "\n",
    "from collections import Counter\n",
    "import string\n",
    "import nltk\n",
    "import numpy as np # linear algebra\n",
    "import pandas as pd # data processing, CSV file I/O (e.g. pd.read_csv)\n",
    "\n",
    "import sys\n",
    "reload(sys)\n",
    "sys.setdefaultencoding('utf8')"
   ]
  },
  {
   "cell_type": "code",
   "execution_count": 94,
   "metadata": {
    "collapsed": true
   },
   "outputs": [],
   "source": [
    "df_train = pd.read_csv('https://s3-us-west-2.amazonaws.com/patchworks-coding-challenge/amazon_alexa.tsv', sep='\\t', encoding='utf-8')"
   ]
  },
  {
   "cell_type": "code",
   "execution_count": null,
   "metadata": {
    "collapsed": false
   },
   "outputs": [],
   "source": []
  },
  {
   "cell_type": "code",
   "execution_count": 95,
   "metadata": {
    "collapsed": false
   },
   "outputs": [],
   "source": [
    "df_train['verified_reviews'] = df_train['verified_reviews'].str.lower()"
   ]
  },
  {
   "cell_type": "code",
   "execution_count": 96,
   "metadata": {
    "collapsed": false
   },
   "outputs": [],
   "source": [
    "df_train['verified_reviews'] = df_train['verified_reviews'].values.tolist()"
   ]
  },
  {
   "cell_type": "code",
   "execution_count": 97,
   "metadata": {
    "collapsed": false
   },
   "outputs": [],
   "source": [
    "df_train['verified_reviews'] = [nltk.tokenize.wordpunct_tokenize(text) for text in df_train['verified_reviews']]"
   ]
  },
  {
   "cell_type": "code",
   "execution_count": 98,
   "metadata": {
    "collapsed": false
   },
   "outputs": [],
   "source": [
    "stopwords = nltk.corpus.stopwords.words('english')"
   ]
  },
  {
   "cell_type": "code",
   "execution_count": 99,
   "metadata": {
    "collapsed": true
   },
   "outputs": [],
   "source": [
    "from itertools import groupby\n",
    "\n",
    "def clear_multiple_char(comment):        \n",
    "    ti = []\n",
    "    for words in comment:\n",
    "        t = [''.join([\"\".join(i) for i, _ in groupby(word)]) if len(word)>10 else word for word in words]\n",
    "        ti.append(t)\n",
    "    return ti"
   ]
  },
  {
   "cell_type": "code",
   "execution_count": 100,
   "metadata": {
    "collapsed": true
   },
   "outputs": [],
   "source": [
    "df_train['verified_reviews'] = clear_multiple_char(df_train['verified_reviews'])\n"
   ]
  },
  {
   "cell_type": "code",
   "execution_count": 101,
   "metadata": {
    "collapsed": false
   },
   "outputs": [],
   "source": [
    "from nltk.stem.lancaster import LancasterStemmer\n",
    "stemmer = LancasterStemmer()\n",
    "punctuation = string.punctuation # '!\"#$%&\\'()*+,-./:;<=>?@[\\\\]^_`{|}~'\n",
    "# Add numbers\n",
    "punctuation += '0123456789'\n",
    "\n",
    "def comment_raiz(comment):\n",
    "    text = []\n",
    "    for lista in comment:\n",
    "        valids = [stemmer.stem(word) for word in lista if word not in stopwords and word not in punctuation \n",
    "                  and len(word)>2]\n",
    "        valids_true = [''.join([char for char in word if char not in punctuation]) for word in valids if \n",
    "                       len(''.join([char for char in word if char not in punctuation]))>0]\n",
    "        text.append(valids_true)\n",
    "    return text\n"
   ]
  },
  {
   "cell_type": "code",
   "execution_count": 123,
   "metadata": {
    "collapsed": false
   },
   "outputs": [],
   "source": [
    "df_train['verified_reviews'] = comment_raiz(df_train['verified_reviews'])\n"
   ]
  },
  {
   "cell_type": "code",
   "execution_count": 129,
   "metadata": {
    "collapsed": false
   },
   "outputs": [],
   "source": [
    "def counter(comment_clear):\n",
    "    cnt = Counter()\n",
    "    for words in comment_clear:\n",
    "        for word in words:\n",
    "            cnt[word] += 1\n",
    "    return cnt"
   ]
  },
  {
   "cell_type": "code",
   "execution_count": 130,
   "metadata": {
    "collapsed": true
   },
   "outputs": [],
   "source": [
    "df = counter(df['verified_reviews'])\n"
   ]
  },
  {
   "cell_type": "code",
   "execution_count": 132,
   "metadata": {
    "collapsed": false
   },
   "outputs": [
    {
     "data": {
      "text/plain": [
       "[(u'lov', 1066),\n",
       " (u'echo', 868),\n",
       " (u'us', 759),\n",
       " (u'gre', 735),\n",
       " (u'alex', 655),\n",
       " (u'work', 651),\n",
       " (u'mus', 540),\n",
       " (u'lik', 535),\n",
       " (u'sound', 427),\n",
       " (u'easy', 403)]"
      ]
     },
     "execution_count": 132,
     "metadata": {},
     "output_type": "execute_result"
    }
   ],
   "source": [
    "df.most_common(10)"
   ]
  },
  {
   "cell_type": "code",
   "execution_count": 113,
   "metadata": {
    "collapsed": false
   },
   "outputs": [],
   "source": [
    "merged_by_group = df_train.groupby([df_train.rating]).verified_reviews.apply(sum)"
   ]
  },
  {
   "cell_type": "code",
   "execution_count": 114,
   "metadata": {
    "collapsed": false
   },
   "outputs": [],
   "source": [
    "a = pd.DataFrame(merged_by_group).reset_index()"
   ]
  },
  {
   "cell_type": "code",
   "execution_count": 1,
   "metadata": {
    "collapsed": false
   },
   "outputs": [
    {
     "name": "stdout",
     "output_type": "stream",
     "text": [
      "adfad\n"
     ]
    }
   ],
   "source": [
    "print('adfad')"
   ]
  },
  {
   "cell_type": "code",
   "execution_count": null,
   "metadata": {
    "collapsed": false
   },
   "outputs": [],
   "source": []
  },
  {
   "cell_type": "code",
   "execution_count": 2,
   "metadata": {
    "collapsed": false
   },
   "outputs": [
    {
     "name": "stdout",
     "output_type": "stream",
     "text": [
      "input: \n",
      "\n",
      "['Hello', 'world', ',', 'my', 'name', 'is', 'Mr', '.', 'Narwhal', '.']\n",
      "\n",
      "output: \n",
      "\n",
      "Hello world, my name is Mr. Narwhal.\n"
     ]
    }
   ],
   "source": [
    "s = ['Hello', 'world', ',', 'my', 'name', 'is', 'Mr', '.', 'Narwhal', '.']\n",
    "print 'input: \\n'\n",
    "print s\n",
    "def mod_join(t):\n",
    "    return \"\".join([s[0]] + [\"{}\".format(x)if x[0].lower() not in list('abcdefghijklmnopqrstuvwxyz') else\" {}\".format(x)  for x in s[1:] ])\n",
    "\n",
    "print\n",
    "print 'output: \\n'\n",
    "print mod_join(s)\n"
   ]
  },
  {
   "cell_type": "code",
   "execution_count": null,
   "metadata": {
    "collapsed": true
   },
   "outputs": [],
   "source": []
  }
 ],
 "metadata": {
  "kernelspec": {
   "display_name": "Python 2",
   "language": "python",
   "name": "python2"
  },
  "language_info": {
   "codemirror_mode": {
    "name": "ipython",
    "version": 2
   },
   "file_extension": ".py",
   "mimetype": "text/x-python",
   "name": "python",
   "nbconvert_exporter": "python",
   "pygments_lexer": "ipython2",
   "version": "2.7.3"
  }
 },
 "nbformat": 4,
 "nbformat_minor": 0
}
